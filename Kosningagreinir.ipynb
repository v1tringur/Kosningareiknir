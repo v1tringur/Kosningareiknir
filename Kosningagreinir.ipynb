{
 "cells": [
  {
   "cell_type": "code",
   "execution_count": 1,
   "id": "95b6f40d",
   "metadata": {},
   "outputs": [],
   "source": [
    "flokkar = [\"B\", \"C\", \"D\", \"F\", \"J\", \"M\", \"O\", \"P\", \"S\", \"V\", \"Y\", \"AoO\"]"
   ]
  },
  {
   "cell_type": "code",
   "execution_count": 2,
   "id": "e12c1973",
   "metadata": {},
   "outputs": [],
   "source": [
    "kjordaemi = [\"NV\", \"NA\", \"SU\", \"SV\", \"RS\", \"RN\"]"
   ]
  },
  {
   "cell_type": "code",
   "execution_count": 3,
   "id": "7fd5fd68",
   "metadata": {},
   "outputs": [],
   "source": [
    "thingsaeti = [[7,1], [9,1], [9,1], [11,2], [9,2], [9,2]]"
   ]
  },
  {
   "cell_type": "code",
   "execution_count": 4,
   "id": "e523cc21",
   "metadata": {},
   "outputs": [],
   "source": [
    "atkNV = [4448, 1063, 3897, 1510, 728, 1278, 73, 1081, 1195, 1978, 0, 417]\n",
    "atkNA = [6016, 1263, 4346, 2026, 954, 2092, 78, 1256, 2465, 3040, 0, 644]\n",
    "atkSU = [7111, 1845, 7296, 3837, 1094, 2207, 193, 1660, 2270, 2200, 0, 668]\n",
    "atkSV = [8520, 6684, 17727, 4436, 1738, 2612, 203, 4853, 4748, 7087, 0, 1212]\n",
    "atkRS = [4077, 3067, 8089, 3169, 1691, 1456, 148, 3875, 4720, 5212, 0, 697]\n",
    "atkRN = [4329, 2706, 7353, 2694, 1976, 1234, 150, 4508, 4427, 5597, 144, 610]"
   ]
  },
  {
   "cell_type": "code",
   "execution_count": 5,
   "id": "69297f8c",
   "metadata": {},
   "outputs": [],
   "source": [
    "#print(sum(atkNV))\n",
    "#print(sum(atkNA))\n",
    "#print(sum(atkSU))\n",
    "#print(sum(atkSV))\n",
    "#print(sum(atkRS))\n",
    "#print(sum(atkRN))"
   ]
  },
  {
   "cell_type": "code",
   "execution_count": 6,
   "id": "dd19c4e4",
   "metadata": {},
   "outputs": [],
   "source": [
    "def utktolur(flokk, atkv):\n",
    "  nidurstodur = {}\n",
    "  for i in range(len(flokk)):\n",
    "    for j in range(1,6):\n",
    "      nidurstodur.update({flokk[i] + str(j) : (atkv[i]/j)})\n",
    "  return nidurstodur"
   ]
  },
  {
   "cell_type": "code",
   "execution_count": 7,
   "id": "d522bfae",
   "metadata": {},
   "outputs": [],
   "source": [
    "utkNV = utktolur(flokkar, atkNV)\n",
    "utkNA = utktolur(flokkar, atkNA)\n",
    "utkSU = utktolur(flokkar, atkSU)\n",
    "utkSV = utktolur(flokkar, atkSV)\n",
    "utkRS = utktolur(flokkar, atkRS)\n",
    "utkRN = utktolur(flokkar, atkRN)\n",
    "#print(utkNV)"
   ]
  },
  {
   "cell_type": "code",
   "execution_count": 8,
   "id": "f375dd18",
   "metadata": {},
   "outputs": [],
   "source": [
    "def toputk(utkx, saeti):\n",
    "  sort = sorted(utkx.items(), key=lambda x: x[1], reverse=True)\n",
    "  topsort = sort[:saeti]\n",
    "  return topsort"
   ]
  },
  {
   "cell_type": "code",
   "execution_count": 9,
   "id": "74cfe8fb",
   "metadata": {},
   "outputs": [],
   "source": [
    "#print(top16utk(utkNV))\n",
    "topNV = toputk(utkNV, 7)\n",
    "topNA = toputk(utkNA, 9)\n",
    "topSU = toputk(utkSU, 9)\n",
    "topSV = toputk(utkSV, 11)\n",
    "topRS = toputk(utkRS, 9)\n",
    "topRN = toputk(utkRN, 9)\n",
    "#print(topRN)"
   ]
  },
  {
   "cell_type": "code",
   "execution_count": 10,
   "id": "f6e19940",
   "metadata": {},
   "outputs": [],
   "source": [
    "fimmflokkar = [\"B\", \"C\", \"D\", \"F\", \"M\", \"P\", \"S\", \"V\", \"AoO\"]"
   ]
  },
  {
   "cell_type": "code",
   "execution_count": 11,
   "id": "035ac487",
   "metadata": {},
   "outputs": [],
   "source": [
    "fimmflokkakjsaeti = [13, 3, 16, 6, 2, 3, 5, 6, 0]"
   ]
  },
  {
   "cell_type": "code",
   "execution_count": 12,
   "id": "80cb64e2",
   "metadata": {},
   "outputs": [],
   "source": [
    "def fimmflokkaatkvaedi(atkvaedi):\n",
    "  atkvaedi[11] = atkvaedi[11] + atkvaedi[4] + atkvaedi[6] + atkvaedi[10]\n",
    "  atkvaedi.pop(10)\n",
    "  atkvaedi.pop(6)\n",
    "  atkvaedi.pop(4)\n",
    "  return atkvaedi"
   ]
  },
  {
   "cell_type": "code",
   "execution_count": 13,
   "id": "035fef62",
   "metadata": {},
   "outputs": [],
   "source": [
    "fimmatkvNV = fimmflokkaatkvaedi(atkNV)\n",
    "fimmatkvNA = fimmflokkaatkvaedi(atkNA)\n",
    "fimmatkvSU = fimmflokkaatkvaedi(atkSU)\n",
    "fimmatkvSV = fimmflokkaatkvaedi(atkSV)\n",
    "fimmatkvRS = fimmflokkaatkvaedi(atkRS)\n",
    "fimmatkvRN = fimmflokkaatkvaedi(atkRN)\n",
    "#print(fimmatkvNV)"
   ]
  },
  {
   "cell_type": "code",
   "execution_count": 14,
   "id": "9869bbc4",
   "metadata": {},
   "outputs": [],
   "source": [
    "landatkv = []\n",
    "for i in range(len(fimmflokkar)):\n",
    "  landatkv.append(fimmatkvNV[i] + fimmatkvNA[i] + fimmatkvSU[i] + fimmatkvSV[i] + fimmatkvRS[i] + fimmatkvRN[i])\n",
    "  \n",
    "#print(landatkv)"
   ]
  },
  {
   "cell_type": "code",
   "execution_count": 15,
   "id": "681b691e",
   "metadata": {},
   "outputs": [
    {
     "name": "stdout",
     "output_type": "stream",
     "text": [
      "[('AoO1', 13418.0), ('AoO2', 6709.0), ('AoO3', 4472.666666666667), ('P4', 4308.25), ('C4', 4157.0), ('M3', 3626.3333333333335), ('V7', 3587.714285714286), ('P5', 3446.6), ('AoO4', 3354.5)]\n"
     ]
    }
   ],
   "source": [
    "jofnunarsaeti = {}\n",
    "\n",
    "for i in range(len(fimmflokkar)):\n",
    "  for j in range(1,8):\n",
    "    jofnunarsaeti.update({fimmflokkar[i] + str(fimmflokkakjsaeti[i] + j) : (landatkv[i] / (fimmflokkakjsaeti[i] + j))})\n",
    "jofnunarsaetisort = sorted(jofnunarsaeti.items(), key=lambda x: x[1], reverse=True)\n",
    "topjofn = jofnunarsaetisort[:9]\n",
    "print(topjofn)"
   ]
  },
  {
   "cell_type": "code",
   "execution_count": null,
   "id": "f002ded3",
   "metadata": {},
   "outputs": [],
   "source": []
  }
 ],
 "metadata": {
  "kernelspec": {
   "display_name": "Python 3 (ipykernel)",
   "language": "python",
   "name": "python3"
  },
  "language_info": {
   "codemirror_mode": {
    "name": "ipython",
    "version": 3
   },
   "file_extension": ".py",
   "mimetype": "text/x-python",
   "name": "python",
   "nbconvert_exporter": "python",
   "pygments_lexer": "ipython3",
   "version": "3.9.12"
  }
 },
 "nbformat": 4,
 "nbformat_minor": 5
}
